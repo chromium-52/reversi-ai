{
 "cells": [
  {
   "cell_type": "markdown",
   "metadata": {},
   "source": [
    "### Imports"
   ]
  },
  {
   "cell_type": "code",
   "execution_count": null,
   "metadata": {},
   "outputs": [],
   "source": [
    "from typing import Tuple\n",
    "\n",
    "import pandas as pd\n",
    "import numpy as np\n",
    "import tensorflow as tf\n",
    "import tensorflow.keras.models as models\n",
    "import tensorflow.keras.layers as layers\n",
    "import tensorflow.keras.optimizers as optimizers\n",
    "import tensorflow.keras.callbacks as callbacks\n",
    "from sklearn.preprocessing import MinMaxScaler, OneHotEncoder\n",
    "\n",
    "ThreeDimArr = List[List[List[int]]]\n",
    "Board = List[List[int]]"
   ]
  },
  {
   "cell_type": "markdown",
   "metadata": {},
   "source": [
    "### Generate dataset for training model\n"
   ]
  },
  {
   "cell_type": "code",
   "execution_count": null,
   "metadata": {},
   "outputs": [],
   "source": [
    "def evaluate_state(state: State) -> int:\n",
    "  utility = 0\n",
    "  weights = [[100, -25,  50, 10, 10,  50, -25, 100],\n",
    "              [-25, -50, -10, -5, -5, -10, -50, -25],\n",
    "              [ 50, -10,   5,  1,  1,   5, -10,  50],\n",
    "              [ 10,  -5,   1, -1, -1,   1,  -5,  10],\n",
    "              [ 10,  -5,   1, -1, -1,   1,  -5,  10],\n",
    "              [ 50, -10,   5,  1,  1,   5, -10,  50],\n",
    "              [-25, -50, -10, -5, -5, -10, -50, -25],\n",
    "              [100, -25,  50, 10, 10,  50, -25, 100]]\n",
    "\n",
    "  for row in range(State.SIZE):\n",
    "      for col in range(State.SIZE):\n",
    "          if state.board[row][col] == State.BLACK:\n",
    "              utility += weights[row][col]\n",
    "          if state.board[row][col] == State.WHITE:\n",
    "              utility -= weights[row][col]\n",
    "\n",
    "  return utility\n",
    "\n",
    "def generate_dataset(num_data: int = 100, normalize: bool = False) -> Tuple[np.array, np.array]:\n",
    "  X, y = [], []\n",
    "  for i in range(num_data):\n",
    "    if i % 100 == 0:\n",
    "      print(i)\n",
    "    state = get_random_state()\n",
    "    board = reshape_board(state)\n",
    "    score = evaluate_state(state)\n",
    "\n",
    "    X.append(board)\n",
    "    y.append(score)\n",
    "\n",
    "  X_train = np.array(X)\n",
    "  y_train = np.array(y)\n",
    "\n",
    "  if normalize:\n",
    "    scaler = MinMaxScaler()\n",
    "    y_2d = y_train.reshape(-1, 1)\n",
    "    scaler.fit(y_2d)\n",
    "    y_train = scaler.transform(y_2d)\n",
    "\n",
    "  return X_train, y_train\n",
    "\n",
    "def get_random_state(max_depth: int = 30) -> State:\n",
    "    state = State()\n",
    "    depth = random.randrange(0, max_depth)\n",
    "\n",
    "    for _ in range(depth):\n",
    "        valid_moves = state.valid_moves()\n",
    "        random_move = random.choice(valid_moves)\n",
    "        new_state = state.place_disk(random_move)\n",
    "        if new_state.game_over():\n",
    "            break\n",
    "        state = new_state\n",
    "\n",
    "    return state\n"
   ]
  },
  {
   "cell_type": "markdown",
   "metadata": {},
   "source": [
    "### Calculate the score for a given state"
   ]
  },
  {
   "cell_type": "code",
   "execution_count": null,
   "metadata": {},
   "outputs": [],
   "source": [
    "def reshape_board(state: State) -> ThreeDimArr:\n",
    "    board = state.board\n",
    "    board_3d = np.zeros((4, 8, 8), dtype=np.int8)\n",
    "\n",
    "    # 3rd dimension - black, white, valid move, vulnerable disk\n",
    "\n",
    "    # black, white\n",
    "    for row_index, row in enumerate(board):\n",
    "        for col_index, cell in enumerate(row):\n",
    "            if cell == State.BLACK:\n",
    "                board_3d[0][row_index][col_index] = 1\n",
    "            elif cell == State.WHITE:\n",
    "                board_3d[1][row_index][col_index] = 1\n",
    "\n",
    "    # valid moves\n",
    "    valid_moves = state.valid_moves()\n",
    "    for row_index, col_index in valid_moves:\n",
    "        board_3d[2][row_index][col_index] = 1\n",
    "\n",
    "    # vulnerable disks\n",
    "    for row_index in range(State.SIZE):\n",
    "        for col_index in range(State.SIZE):\n",
    "            if state.is_disk_vulnerable((row_index, col_index)):\n",
    "                board_3d[3][row_index][col_index] = 1\n",
    "\n",
    "    return board_3d\n"
   ]
  },
  {
   "cell_type": "markdown",
   "metadata": {},
   "source": [
    "### Build model"
   ]
  },
  {
   "cell_type": "code",
   "execution_count": null,
   "metadata": {},
   "outputs": [],
   "source": [
    "X_train, y_train = generate_dataset(num_data=10_000, normalize=True)"
   ]
  },
  {
   "cell_type": "code",
   "execution_count": null,
   "metadata": {},
   "outputs": [],
   "source": [
    "def build_model():\n",
    "    model = tf.keras.Sequential([\n",
    "        tf.keras.layers.Conv2D(filters=32,\n",
    "                               kernel_size=3,\n",
    "                               padding=\"same\",\n",
    "                               activation=\"relu\",\n",
    "                               input_shape=(4, State.SIZE, State.SIZE)),\n",
    "        tf.keras.layers.Conv2D(filters=32, kernel_size=3, padding='same', activation='relu'),\n",
    "        tf.keras.layers.Conv2D(filters=32, kernel_size=3, padding='same', activation='relu'),\n",
    "        tf.keras.layers.MaxPool2D(pool_size=2, padding=\"valid\"),\n",
    "        tf.keras.layers.Conv2D(filters=32, kernel_size=3, padding='same', activation='relu'),\n",
    "        tf.keras.layers.MaxPool2D(2),\n",
    "        tf.keras.layers.Flatten(),\n",
    "        tf.keras.layers.Dense(64, activation=\"relu\"),\n",
    "        tf.keras.layers.Dense(1, activation=\"sigmoid\"),\n",
    "    ])\n",
    "\n",
    "    model.compile(loss=tf.keras.losses.mae,\n",
    "                  optimizer=tf.keras.optimizers.Adam(learning_rate=5e-4),\n",
    "                  metrics=[\"mae\"])\n",
    "\n",
    "    model.fit(X_train, y_train,\n",
    "              batch_size=2048,\n",
    "              epochs=1000,\n",
    "              verbose=1,\n",
    "              validation_split=0.1,\n",
    "              callbacks=[callbacks.ReduceLROnPlateau(monitor='loss', patience=10),\n",
    "                         callbacks.EarlyStopping(monitor='loss', patience=15, min_delta=1e-4)])\n",
    "\n",
    "    return model\n",
    "\n",
    "model = build_model()"
   ]
  },
  {
   "cell_type": "markdown",
   "metadata": {},
   "source": [
    "### Test model"
   ]
  },
  {
   "cell_type": "markdown",
   "metadata": {},
   "source": [
    "from tensorflow.keras import models\n",
    "\n",
    "# model = models.load_model('not_normalized.h5')\n",
    "\n",
    "# Agent that uses a neural network to (attempt to) compute the optimal move\n",
    "class NeuralNetworkAgent(Agent):\n",
    "    def evaluate(self, state: State) -> int:\n",
    "          board_3d = reshape_board(state)\n",
    "          board_3d = np.expand_dims(board_3d, 0)\n",
    "          return model(board_3d)[0][0]\n",
    "\n",
    "    def __str__(self) -> str:\n",
    "        return \"Neural Network\"\n",
    "\n",
    "state = get_random_state()\n",
    "print(state)\n",
    "neural_network_agent = NeuralNetworkAgent()\n",
    "move = neural_network_agent.get_action(state)\n",
    "print(move)"
   ]
  },
  {
   "cell_type": "code",
   "execution_count": null,
   "metadata": {},
   "outputs": [],
   "source": [
    "model.summary()\n",
    "\n",
    "model.save('1000_normalized.h5')"
   ]
  }
 ],
 "metadata": {
  "language_info": {
   "name": "python"
  },
  "orig_nbformat": 4
 },
 "nbformat": 4,
 "nbformat_minor": 2
}
